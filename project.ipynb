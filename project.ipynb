{
 "cells": [
  {
   "cell_type": "code",
   "execution_count": 7,
   "metadata": {},
   "outputs": [],
   "source": [
    "# imports\n",
    "import pandas as pd\n",
    "import numpy as np\n",
    "import matplotlib.pyplot as plt\n",
    "import seaborn as sns\n",
    "from sklearn.model_selection import train_test_split"
   ]
  },
  {
   "cell_type": "code",
   "execution_count": 8,
   "metadata": {},
   "outputs": [],
   "source": [
    "# read data\n",
    "df = pd.read_csv(\"data/npf_train.csv\")"
   ]
  },
  {
   "cell_type": "code",
   "execution_count": 9,
   "metadata": {},
   "outputs": [
    {
     "data": {
      "text/html": [
       "<div>\n",
       "<style scoped>\n",
       "    .dataframe tbody tr th:only-of-type {\n",
       "        vertical-align: middle;\n",
       "    }\n",
       "\n",
       "    .dataframe tbody tr th {\n",
       "        vertical-align: top;\n",
       "    }\n",
       "\n",
       "    .dataframe thead th {\n",
       "        text-align: right;\n",
       "    }\n",
       "</style>\n",
       "<table border=\"1\" class=\"dataframe\">\n",
       "  <thead>\n",
       "    <tr style=\"text-align: right;\">\n",
       "      <th></th>\n",
       "      <th>id</th>\n",
       "      <th>date</th>\n",
       "      <th>class4</th>\n",
       "      <th>partlybad</th>\n",
       "      <th>CO2168.mean</th>\n",
       "      <th>CO2168.std</th>\n",
       "      <th>CO2336.mean</th>\n",
       "      <th>CO2336.std</th>\n",
       "      <th>CO242.mean</th>\n",
       "      <th>CO242.std</th>\n",
       "      <th>...</th>\n",
       "      <th>T672.mean</th>\n",
       "      <th>T672.std</th>\n",
       "      <th>T84.mean</th>\n",
       "      <th>T84.std</th>\n",
       "      <th>UV_A.mean</th>\n",
       "      <th>UV_A.std</th>\n",
       "      <th>UV_B.mean</th>\n",
       "      <th>UV_B.std</th>\n",
       "      <th>CS.mean</th>\n",
       "      <th>CS.std</th>\n",
       "    </tr>\n",
       "  </thead>\n",
       "  <tbody>\n",
       "    <tr>\n",
       "      <th>0</th>\n",
       "      <td>1</td>\n",
       "      <td>2000-02-23</td>\n",
       "      <td>nonevent</td>\n",
       "      <td>False</td>\n",
       "      <td>380.528120</td>\n",
       "      <td>0.802001</td>\n",
       "      <td>380.371466</td>\n",
       "      <td>0.889550</td>\n",
       "      <td>381.816207</td>\n",
       "      <td>1.292593</td>\n",
       "      <td>...</td>\n",
       "      <td>-10.730843</td>\n",
       "      <td>1.381815</td>\n",
       "      <td>-10.282754</td>\n",
       "      <td>1.870056</td>\n",
       "      <td>8.356761</td>\n",
       "      <td>4.534937</td>\n",
       "      <td>0.178084</td>\n",
       "      <td>0.123402</td>\n",
       "      <td>0.002546</td>\n",
       "      <td>0.000686</td>\n",
       "    </tr>\n",
       "    <tr>\n",
       "      <th>1</th>\n",
       "      <td>2</td>\n",
       "      <td>2000-03-25</td>\n",
       "      <td>Ib</td>\n",
       "      <td>False</td>\n",
       "      <td>373.128684</td>\n",
       "      <td>1.096617</td>\n",
       "      <td>372.980000</td>\n",
       "      <td>1.047750</td>\n",
       "      <td>373.701830</td>\n",
       "      <td>1.259198</td>\n",
       "      <td>...</td>\n",
       "      <td>-2.095641</td>\n",
       "      <td>1.695622</td>\n",
       "      <td>-1.095864</td>\n",
       "      <td>2.090111</td>\n",
       "      <td>12.906779</td>\n",
       "      <td>7.022300</td>\n",
       "      <td>0.333523</td>\n",
       "      <td>0.239981</td>\n",
       "      <td>0.000662</td>\n",
       "      <td>0.000210</td>\n",
       "    </tr>\n",
       "    <tr>\n",
       "      <th>2</th>\n",
       "      <td>3</td>\n",
       "      <td>2000-04-06</td>\n",
       "      <td>Ib</td>\n",
       "      <td>False</td>\n",
       "      <td>372.363293</td>\n",
       "      <td>0.626329</td>\n",
       "      <td>372.245689</td>\n",
       "      <td>0.615803</td>\n",
       "      <td>372.847246</td>\n",
       "      <td>0.647279</td>\n",
       "      <td>...</td>\n",
       "      <td>0.991521</td>\n",
       "      <td>1.914186</td>\n",
       "      <td>1.846503</td>\n",
       "      <td>1.954748</td>\n",
       "      <td>14.286261</td>\n",
       "      <td>9.572444</td>\n",
       "      <td>0.418313</td>\n",
       "      <td>0.344386</td>\n",
       "      <td>0.000541</td>\n",
       "      <td>0.000072</td>\n",
       "    </tr>\n",
       "    <tr>\n",
       "      <th>3</th>\n",
       "      <td>4</td>\n",
       "      <td>2000-04-11</td>\n",
       "      <td>nonevent</td>\n",
       "      <td>False</td>\n",
       "      <td>381.437442</td>\n",
       "      <td>7.281159</td>\n",
       "      <td>381.380405</td>\n",
       "      <td>7.236002</td>\n",
       "      <td>381.926532</td>\n",
       "      <td>7.294374</td>\n",
       "      <td>...</td>\n",
       "      <td>1.753414</td>\n",
       "      <td>0.340565</td>\n",
       "      <td>2.524931</td>\n",
       "      <td>0.414255</td>\n",
       "      <td>4.945162</td>\n",
       "      <td>3.405652</td>\n",
       "      <td>0.224159</td>\n",
       "      <td>0.192014</td>\n",
       "      <td>0.003710</td>\n",
       "      <td>0.001209</td>\n",
       "    </tr>\n",
       "    <tr>\n",
       "      <th>4</th>\n",
       "      <td>5</td>\n",
       "      <td>2000-04-23</td>\n",
       "      <td>II</td>\n",
       "      <td>False</td>\n",
       "      <td>375.426310</td>\n",
       "      <td>3.264246</td>\n",
       "      <td>375.436524</td>\n",
       "      <td>3.110886</td>\n",
       "      <td>375.740215</td>\n",
       "      <td>3.274924</td>\n",
       "      <td>...</td>\n",
       "      <td>10.940107</td>\n",
       "      <td>2.179821</td>\n",
       "      <td>11.441893</td>\n",
       "      <td>3.048699</td>\n",
       "      <td>13.087014</td>\n",
       "      <td>9.771415</td>\n",
       "      <td>0.525591</td>\n",
       "      <td>0.476821</td>\n",
       "      <td>0.003680</td>\n",
       "      <td>0.002160</td>\n",
       "    </tr>\n",
       "  </tbody>\n",
       "</table>\n",
       "<p>5 rows × 104 columns</p>\n",
       "</div>"
      ],
      "text/plain": [
       "   id        date    class4  partlybad  CO2168.mean  CO2168.std  CO2336.mean  \\\n",
       "0   1  2000-02-23  nonevent      False   380.528120    0.802001   380.371466   \n",
       "1   2  2000-03-25        Ib      False   373.128684    1.096617   372.980000   \n",
       "2   3  2000-04-06        Ib      False   372.363293    0.626329   372.245689   \n",
       "3   4  2000-04-11  nonevent      False   381.437442    7.281159   381.380405   \n",
       "4   5  2000-04-23        II      False   375.426310    3.264246   375.436524   \n",
       "\n",
       "   CO2336.std  CO242.mean  CO242.std  ...  T672.mean  T672.std   T84.mean  \\\n",
       "0    0.889550  381.816207   1.292593  ... -10.730843  1.381815 -10.282754   \n",
       "1    1.047750  373.701830   1.259198  ...  -2.095641  1.695622  -1.095864   \n",
       "2    0.615803  372.847246   0.647279  ...   0.991521  1.914186   1.846503   \n",
       "3    7.236002  381.926532   7.294374  ...   1.753414  0.340565   2.524931   \n",
       "4    3.110886  375.740215   3.274924  ...  10.940107  2.179821  11.441893   \n",
       "\n",
       "    T84.std  UV_A.mean  UV_A.std  UV_B.mean  UV_B.std   CS.mean    CS.std  \n",
       "0  1.870056   8.356761  4.534937   0.178084  0.123402  0.002546  0.000686  \n",
       "1  2.090111  12.906779  7.022300   0.333523  0.239981  0.000662  0.000210  \n",
       "2  1.954748  14.286261  9.572444   0.418313  0.344386  0.000541  0.000072  \n",
       "3  0.414255   4.945162  3.405652   0.224159  0.192014  0.003710  0.001209  \n",
       "4  3.048699  13.087014  9.771415   0.525591  0.476821  0.003680  0.002160  \n",
       "\n",
       "[5 rows x 104 columns]"
      ]
     },
     "execution_count": 9,
     "metadata": {},
     "output_type": "execute_result"
    }
   ],
   "source": [
    "df.head()"
   ]
  },
  {
   "cell_type": "code",
   "execution_count": 10,
   "metadata": {},
   "outputs": [],
   "source": [
    "# create new class that is either event or nonevent\n",
    "df[\"class2\"] = [\"nonevent\" if x==\"nonevent\" else \"event\" for x in df[\"class4\"]]"
   ]
  },
  {
   "cell_type": "code",
   "execution_count": 11,
   "metadata": {},
   "outputs": [
    {
     "data": {
      "text/html": [
       "<div>\n",
       "<style scoped>\n",
       "    .dataframe tbody tr th:only-of-type {\n",
       "        vertical-align: middle;\n",
       "    }\n",
       "\n",
       "    .dataframe tbody tr th {\n",
       "        vertical-align: top;\n",
       "    }\n",
       "\n",
       "    .dataframe thead th {\n",
       "        text-align: right;\n",
       "    }\n",
       "</style>\n",
       "<table border=\"1\" class=\"dataframe\">\n",
       "  <thead>\n",
       "    <tr style=\"text-align: right;\">\n",
       "      <th></th>\n",
       "      <th>CO2168.mean</th>\n",
       "      <th>CO2168.std</th>\n",
       "      <th>CO2336.mean</th>\n",
       "      <th>CO2336.std</th>\n",
       "      <th>CO242.mean</th>\n",
       "      <th>CO242.std</th>\n",
       "      <th>CO2504.mean</th>\n",
       "      <th>CO2504.std</th>\n",
       "      <th>Glob.mean</th>\n",
       "      <th>Glob.std</th>\n",
       "      <th>...</th>\n",
       "      <th>T672.std</th>\n",
       "      <th>T84.mean</th>\n",
       "      <th>T84.std</th>\n",
       "      <th>UV_A.mean</th>\n",
       "      <th>UV_A.std</th>\n",
       "      <th>UV_B.mean</th>\n",
       "      <th>UV_B.std</th>\n",
       "      <th>CS.mean</th>\n",
       "      <th>CS.std</th>\n",
       "      <th>class2</th>\n",
       "    </tr>\n",
       "  </thead>\n",
       "  <tbody>\n",
       "    <tr>\n",
       "      <th>0</th>\n",
       "      <td>380.528120</td>\n",
       "      <td>0.802001</td>\n",
       "      <td>380.371466</td>\n",
       "      <td>0.889550</td>\n",
       "      <td>381.816207</td>\n",
       "      <td>1.292593</td>\n",
       "      <td>380.296466</td>\n",
       "      <td>0.968884</td>\n",
       "      <td>236.605353</td>\n",
       "      <td>145.160571</td>\n",
       "      <td>...</td>\n",
       "      <td>1.381815</td>\n",
       "      <td>-10.282754</td>\n",
       "      <td>1.870056</td>\n",
       "      <td>8.356761</td>\n",
       "      <td>4.534937</td>\n",
       "      <td>0.178084</td>\n",
       "      <td>0.123402</td>\n",
       "      <td>0.002546</td>\n",
       "      <td>0.000686</td>\n",
       "      <td>nonevent</td>\n",
       "    </tr>\n",
       "    <tr>\n",
       "      <th>1</th>\n",
       "      <td>373.128684</td>\n",
       "      <td>1.096617</td>\n",
       "      <td>372.980000</td>\n",
       "      <td>1.047750</td>\n",
       "      <td>373.701830</td>\n",
       "      <td>1.259198</td>\n",
       "      <td>372.910000</td>\n",
       "      <td>1.004164</td>\n",
       "      <td>252.480327</td>\n",
       "      <td>138.921953</td>\n",
       "      <td>...</td>\n",
       "      <td>1.695622</td>\n",
       "      <td>-1.095864</td>\n",
       "      <td>2.090111</td>\n",
       "      <td>12.906779</td>\n",
       "      <td>7.022300</td>\n",
       "      <td>0.333523</td>\n",
       "      <td>0.239981</td>\n",
       "      <td>0.000662</td>\n",
       "      <td>0.000210</td>\n",
       "      <td>event</td>\n",
       "    </tr>\n",
       "    <tr>\n",
       "      <th>2</th>\n",
       "      <td>372.363293</td>\n",
       "      <td>0.626329</td>\n",
       "      <td>372.245689</td>\n",
       "      <td>0.615803</td>\n",
       "      <td>372.847246</td>\n",
       "      <td>0.647279</td>\n",
       "      <td>372.193952</td>\n",
       "      <td>0.596289</td>\n",
       "      <td>269.981547</td>\n",
       "      <td>200.826676</td>\n",
       "      <td>...</td>\n",
       "      <td>1.914186</td>\n",
       "      <td>1.846503</td>\n",
       "      <td>1.954748</td>\n",
       "      <td>14.286261</td>\n",
       "      <td>9.572444</td>\n",
       "      <td>0.418313</td>\n",
       "      <td>0.344386</td>\n",
       "      <td>0.000541</td>\n",
       "      <td>0.000072</td>\n",
       "      <td>event</td>\n",
       "    </tr>\n",
       "    <tr>\n",
       "      <th>3</th>\n",
       "      <td>381.437442</td>\n",
       "      <td>7.281159</td>\n",
       "      <td>381.380405</td>\n",
       "      <td>7.236002</td>\n",
       "      <td>381.926532</td>\n",
       "      <td>7.294374</td>\n",
       "      <td>381.381156</td>\n",
       "      <td>7.208287</td>\n",
       "      <td>68.364653</td>\n",
       "      <td>48.560722</td>\n",
       "      <td>...</td>\n",
       "      <td>0.340565</td>\n",
       "      <td>2.524931</td>\n",
       "      <td>0.414255</td>\n",
       "      <td>4.945162</td>\n",
       "      <td>3.405652</td>\n",
       "      <td>0.224159</td>\n",
       "      <td>0.192014</td>\n",
       "      <td>0.003710</td>\n",
       "      <td>0.001209</td>\n",
       "      <td>nonevent</td>\n",
       "    </tr>\n",
       "    <tr>\n",
       "      <th>4</th>\n",
       "      <td>375.426310</td>\n",
       "      <td>3.264246</td>\n",
       "      <td>375.436524</td>\n",
       "      <td>3.110886</td>\n",
       "      <td>375.740215</td>\n",
       "      <td>3.274924</td>\n",
       "      <td>375.337059</td>\n",
       "      <td>2.903780</td>\n",
       "      <td>242.192619</td>\n",
       "      <td>190.952026</td>\n",
       "      <td>...</td>\n",
       "      <td>2.179821</td>\n",
       "      <td>11.441893</td>\n",
       "      <td>3.048699</td>\n",
       "      <td>13.087014</td>\n",
       "      <td>9.771415</td>\n",
       "      <td>0.525591</td>\n",
       "      <td>0.476821</td>\n",
       "      <td>0.003680</td>\n",
       "      <td>0.002160</td>\n",
       "      <td>event</td>\n",
       "    </tr>\n",
       "  </tbody>\n",
       "</table>\n",
       "<p>5 rows × 101 columns</p>\n",
       "</div>"
      ],
      "text/plain": [
       "   CO2168.mean  CO2168.std  CO2336.mean  CO2336.std  CO242.mean  CO242.std  \\\n",
       "0   380.528120    0.802001   380.371466    0.889550  381.816207   1.292593   \n",
       "1   373.128684    1.096617   372.980000    1.047750  373.701830   1.259198   \n",
       "2   372.363293    0.626329   372.245689    0.615803  372.847246   0.647279   \n",
       "3   381.437442    7.281159   381.380405    7.236002  381.926532   7.294374   \n",
       "4   375.426310    3.264246   375.436524    3.110886  375.740215   3.274924   \n",
       "\n",
       "   CO2504.mean  CO2504.std   Glob.mean    Glob.std  ...  T672.std   T84.mean  \\\n",
       "0   380.296466    0.968884  236.605353  145.160571  ...  1.381815 -10.282754   \n",
       "1   372.910000    1.004164  252.480327  138.921953  ...  1.695622  -1.095864   \n",
       "2   372.193952    0.596289  269.981547  200.826676  ...  1.914186   1.846503   \n",
       "3   381.381156    7.208287   68.364653   48.560722  ...  0.340565   2.524931   \n",
       "4   375.337059    2.903780  242.192619  190.952026  ...  2.179821  11.441893   \n",
       "\n",
       "    T84.std  UV_A.mean  UV_A.std  UV_B.mean  UV_B.std   CS.mean    CS.std  \\\n",
       "0  1.870056   8.356761  4.534937   0.178084  0.123402  0.002546  0.000686   \n",
       "1  2.090111  12.906779  7.022300   0.333523  0.239981  0.000662  0.000210   \n",
       "2  1.954748  14.286261  9.572444   0.418313  0.344386  0.000541  0.000072   \n",
       "3  0.414255   4.945162  3.405652   0.224159  0.192014  0.003710  0.001209   \n",
       "4  3.048699  13.087014  9.771415   0.525591  0.476821  0.003680  0.002160   \n",
       "\n",
       "     class2  \n",
       "0  nonevent  \n",
       "1     event  \n",
       "2     event  \n",
       "3  nonevent  \n",
       "4     event  \n",
       "\n",
       "[5 rows x 101 columns]"
      ]
     },
     "execution_count": 11,
     "metadata": {},
     "output_type": "execute_result"
    }
   ],
   "source": [
    "# set date as index and drop definitely useless columns (id, partlybad, class4)\n",
    "del df[\"date\"]\n",
    "del df[\"id\"]\n",
    "del df[\"partlybad\"]\n",
    "del df[\"class4\"]\n",
    "df.head()"
   ]
  },
  {
   "cell_type": "code",
   "execution_count": 12,
   "metadata": {},
   "outputs": [
    {
     "data": {
      "image/png": "[encoded data removed]",
      "text/plain": [
       "<Figure size 1080x1080 with 2 Axes>"
      ]
     },
     "metadata": {
      "needs_background": "light"
     },
     "output_type": "display_data"
    }
   ],
   "source": [
    "# correlation matrix\n",
    "plt.figure(figsize=(15,15))\n",
    "corr = df.corr().abs()\n",
    "corr = corr[corr>=0.5] #treshold\n",
    "sns.heatmap(corr, cmap = \"Greens\")\n",
    "plt.show()"
   ]
  },
  {
   "cell_type": "code",
   "execution_count": 13,
   "metadata": {},
   "outputs": [],
   "source": [
    "# select X and y variables\n",
    "X = df.loc[:, df.columns != 'class2']\n",
    "y = df[\"class2\"]\n",
    "y = [1 if v==\"event\" else 0 for v in y]"
   ]
  },
  {
   "cell_type": "markdown",
   "metadata": {},
   "source": [
    "# Feature selection\n",
    "## By hand"
   ]
  },
  {
   "cell_type": "code",
   "execution_count": 14,
   "metadata": {},
   "outputs": [],
   "source": [
    "def hand(X):\n",
    "    # indexes to be deleted\n",
    "    delidx=[]\n",
    "    # loop column names\n",
    "    for i,col in enumerate(X.columns):\n",
    "        # Drop all .std - columns \n",
    "        if col[-4:]==\".std\":\n",
    "            delidx.append(i)\n",
    "\n",
    "        # Drop different altitude columns\n",
    "        if col[:3]==\"CO2\" and col!=\"CO2168.mean\":\n",
    "            delidx.append(i)\n",
    "        if col[:3]==\"H20\" and col != \"H20168.mean\":\n",
    "            delidx.append(i)        \n",
    "        if col[:2] == \"NO\" and col != \"NO168.mean\" and col[:3] != \"NOx\":\n",
    "            delidx.append(i)        \n",
    "        if col[:3] == \"NOx\" and col != \"NOx168.mean\":\n",
    "            delidx.append(i)\n",
    "        if col[:2] == \"O3\" and col != \"O3168.mean\":\n",
    "            delidx.append(i)\n",
    "        if col[:6] == \"RHIRGA\" and col != \"RHIRHGA168.mean\":\n",
    "            delidx.append(i)\n",
    "        if col[:1] == \"T\" and col != \"T168.mean\":\n",
    "            delidx.append(i)\n",
    "    X = X.drop(X.columns[delidx], axis=1)\n",
    "\n",
    "    assert(len(X.columns) == 23)\n",
    "    \n",
    "    return X"
   ]
  },
  {
   "cell_type": "markdown",
   "metadata": {},
   "source": [
    "## Recursive feature elimination"
   ]
  },
  {
   "cell_type": "code",
   "execution_count": 15,
   "metadata": {},
   "outputs": [],
   "source": [
    "from sklearn.feature_selection import RFECV\n",
    "\n",
    "def rfe(X):\n",
    "    # define a model\n",
    "    model = RandomForestClassifier()\n",
    "    # 20cross validation, eliminate one feature per iteration\n",
    "    selector = RFECV(model, step=1, cv=20) \n",
    "    # Fit to the data\n",
    "    selector = selector.fit(X, y)\n",
    "    # Apply dimension reduction to X\n",
    "    return selector.transform(X)"
   ]
  },
  {
   "cell_type": "code",
   "execution_count": null,
   "metadata": {},
   "outputs": [],
   "source": []
  },
  {
   "cell_type": "markdown",
   "metadata": {},
   "source": [
    "## PCA feature selection"
   ]
  },
  {
   "cell_type": "code",
   "execution_count": 16,
   "metadata": {},
   "outputs": [],
   "source": [
    "from sklearn.preprocessing import StandardScaler\n",
    "from sklearn.decomposition import PCA\n",
    "\n",
    "def pca(X):\n",
    "    # standarsize the data - PCA is affected by scale\n",
    "    scaler = StandardScaler()\n",
    "    # fit on training only\n",
    "    scaler.fit(X)\n",
    "    X = scaler.transform(X)\n",
    "\n",
    "    # Feature selection using PCA\n",
    "    # n_components='mle': Minka’s MLE(used to guess the dimension)\n",
    "    pca = PCA(n_components='mle', svd_solver='auto', tol=0.0, iterated_power='auto', random_state=None)\n",
    "    # fit only on training data\n",
    "    pca.fit(X)\n",
    "    # Apply dimensionality reduction to X\n",
    "    X = pca.transform(X)\n",
    "    #print(\"Number of features: {}\".format(len(pca.components_)))\n",
    "    return X"
   ]
  },
  {
   "cell_type": "code",
   "execution_count": null,
   "metadata": {},
   "outputs": [],
   "source": []
  },
  {
   "cell_type": "markdown",
   "metadata": {},
   "source": [
    "# Model selection"
   ]
  },
  {
   "cell_type": "code",
   "execution_count": 17,
   "metadata": {},
   "outputs": [],
   "source": [
    "# KFold cross-validation\n",
    "from sklearn.model_selection import KFold\n",
    "from sklearn.model_selection import cross_val_score\n",
    "from sklearn.linear_model import LogisticRegression\n",
    "from sklearn.svm import SVC\n",
    "from sklearn.ensemble import RandomForestClassifier\n",
    "from sklearn.tree import DecisionTreeClassifier\n",
    "from sklearn.ensemble import ExtraTreesClassifier\n",
    "\n",
    "def modeling(model, X):\n",
    "    cv = KFold(n_splits=20, shuffle=True)\n",
    "    model = model\n",
    "\n",
    "    # evaluate model\n",
    "    scores = cross_val_score(model, X, y, scoring='accuracy', cv=cv, n_jobs=-1)\n",
    "    # report performance\n",
    "    print('Accuracy: %.3f (%.3f)' % (np.mean(scores), np.std(scores)))"
   ]
  },
  {
   "cell_type": "code",
   "execution_count": 18,
   "metadata": {},
   "outputs": [
    {
     "name": "stdout",
     "output_type": "stream",
     "text": [
      "\n",
      "\n",
      "feature selection: hand\n",
      "Accuracy: 0.830 (0.080)\n",
      "Accuracy: 0.767 (0.094)\n",
      "Accuracy: 0.870 (0.042)\n",
      "Accuracy: 0.879 (0.069)\n",
      "Accuracy: 0.830 (0.067)\n",
      "\n",
      "\n",
      "feature selection: pca\n",
      "Accuracy: 0.893 (0.056)\n",
      "Accuracy: 0.877 (0.055)\n",
      "Accuracy: 0.853 (0.076)\n",
      "Accuracy: 0.859 (0.057)\n",
      "Accuracy: 0.737 (0.096)\n",
      "\n",
      "\n",
      "feature selection: rfe\n",
      "Accuracy: 0.875 (0.071)\n",
      "Accuracy: 0.774 (0.089)\n",
      "Accuracy: 0.879 (0.063)\n",
      "Accuracy: 0.883 (0.078)\n",
      "Accuracy: 0.805 (0.082)\n"
     ]
    }
   ],
   "source": [
    "# accuracies of the models using hand selected features, pca features and rfe features(takes a while).\n",
    "name = [\"hand\", \"pca\", \"rfe\"]\n",
    "selection = [hand(X), pca(X), rfe(X)]\n",
    "\n",
    "for i in range(len(name)):\n",
    "    print('\\n')\n",
    "    print(\"feature selection: {}\".format(name[i]))\n",
    "    x = selection[i]\n",
    "    modeling(LogisticRegression(),x)\n",
    "    modeling(SVC(),x)\n",
    "    modeling(RandomForestClassifier(),x)\n",
    "    modeling(ExtraTreesClassifier(),x)\n",
    "    modeling(DecisionTreeClassifier(),x)\n"
   ]
  },
  {
   "cell_type": "markdown",
   "metadata": {},
   "source": [
    "# Final model"
   ]
  },
  {
   "cell_type": "code",
   "execution_count": 172,
   "metadata": {},
   "outputs": [
    {
     "name": "stdout",
     "output_type": "stream",
     "text": [
      "Accuracy: 0.902 (0.059)\n"
     ]
    }
   ],
   "source": [
    "model = LogisticRegression(penalty='l2', \n",
    "                           dual=False, \n",
    "                           tol=0.0001, \n",
    "                           C=1.0, \n",
    "                           fit_intercept=True, \n",
    "                           intercept_scaling=1, \n",
    "                           class_weight=None, \n",
    "                           random_state=None, \n",
    "                           solver='lbfgs', \n",
    "                           max_iter=100, \n",
    "                           multi_class='auto', \n",
    "                           verbose=0, \n",
    "                           warm_start=False, \n",
    "                           n_jobs=None, \n",
    "                           l1_ratio=None)\n",
    "\n",
    "\n",
    "modeling(model,pca(X))"
   ]
  },
  {
   "cell_type": "code",
   "execution_count": null,
   "metadata": {},
   "outputs": [],
   "source": []
  },
  {
   "cell_type": "markdown",
   "metadata": {},
   "source": [
    "# TPOT for fun"
   ]
  },
  {
   "cell_type": "code",
   "execution_count": 133,
   "metadata": {},
   "outputs": [],
   "source": [
    "X_train, X_test, y_train, y_test = train_test_split(hand(X), y, train_size=0.75, test_size=0.25)"
   ]
  },
  {
   "cell_type": "code",
   "execution_count": 134,
   "metadata": {},
   "outputs": [
    {
     "data": {
      "application/vnd.jupyter.widget-view+json": {
       "model_id": "",
       "version_major": 2,
       "version_minor": 0
      },
      "text/plain": [
       "HBox(children=(HTML(value='Optimization Progress'), FloatProgress(value=0.0, max=400.0), HTML(value='')))"
      ]
     },
     "metadata": {},
     "output_type": "display_data"
    },
    {
     "name": "stdout",
     "output_type": "stream",
     "text": [
      "\n",
      "Generation 1 - Current best internal CV score: 0.888343253968254\n",
      "\n",
      "Generation 2 - Current best internal CV score: 0.888343253968254\n",
      "\n",
      "Generation 3 - Current best internal CV score: 0.888343253968254\n",
      "\n",
      "Best pipeline: ExtraTreesClassifier(GaussianNB(input_matrix), bootstrap=False, criterion=gini, max_features=0.7000000000000001, min_samples_leaf=3, min_samples_split=2, n_estimators=100)\n"
     ]
    }
   ],
   "source": [
    "# TPOT\n",
    "from tpot import TPOTClassifier\n",
    "import timeit\n",
    "\n",
    "tpot = TPOTClassifier(verbosity=2, \n",
    "                      scoring=\"balanced_accuracy\", \n",
    "                      random_state=123, \n",
    "                      periodic_checkpoint_folder=\"tpot1\", \n",
    "                      n_jobs=-1, \n",
    "                      generations=3,\n",
    "                      cv=20,\n",
    "                      population_size=100)\n",
    "\n",
    "\n",
    "tpot.fit(X_train, np.array(y_train))\n",
    "tpot.export('tpot_pipeline.py')\n"
   ]
  },
  {
   "cell_type": "code",
   "execution_count": null,
   "metadata": {},
   "outputs": [],
   "source": []
  },
  {
   "cell_type": "code",
   "execution_count": null,
   "metadata": {},
   "outputs": [],
   "source": []
  },
  {
   "cell_type": "code",
   "execution_count": null,
   "metadata": {},
   "outputs": [],
   "source": []
  },
  {
   "cell_type": "code",
   "execution_count": null,
   "metadata": {},
   "outputs": [],
   "source": []
  },
  {
   "cell_type": "code",
   "execution_count": null,
   "metadata": {},
   "outputs": [],
   "source": []
  },
  {
   "cell_type": "code",
   "execution_count": null,
   "metadata": {},
   "outputs": [],
   "source": []
  },
  {
   "cell_type": "code",
   "execution_count": null,
   "metadata": {},
   "outputs": [],
   "source": []
  },
  {
   "cell_type": "code",
   "execution_count": null,
   "metadata": {},
   "outputs": [],
   "source": []
  },
  {
   "cell_type": "code",
   "execution_count": null,
   "metadata": {},
   "outputs": [],
   "source": []
  },
  {
   "cell_type": "code",
   "execution_count": null,
   "metadata": {},
   "outputs": [],
   "source": []
  },
  {
   "cell_type": "code",
   "execution_count": null,
   "metadata": {},
   "outputs": [],
   "source": []
  },
  {
   "cell_type": "code",
   "execution_count": null,
   "metadata": {},
   "outputs": [],
   "source": []
  },
  {
   "cell_type": "code",
   "execution_count": null,
   "metadata": {},
   "outputs": [],
   "source": []
  },
  {
   "cell_type": "code",
   "execution_count": null,
   "metadata": {},
   "outputs": [],
   "source": []
  },
  {
   "cell_type": "code",
   "execution_count": null,
   "metadata": {},
   "outputs": [],
   "source": []
  },
  {
   "cell_type": "code",
   "execution_count": null,
   "metadata": {},
   "outputs": [],
   "source": []
  },
  {
   "cell_type": "code",
   "execution_count": null,
   "metadata": {},
   "outputs": [],
   "source": []
  },
  {
   "cell_type": "code",
   "execution_count": null,
   "metadata": {},
   "outputs": [],
   "source": []
  },
  {
   "cell_type": "code",
   "execution_count": null,
   "metadata": {},
   "outputs": [],
   "source": []
  },
  {
   "cell_type": "code",
   "execution_count": null,
   "metadata": {},
   "outputs": [],
   "source": []
  },
  {
   "cell_type": "code",
   "execution_count": null,
   "metadata": {},
   "outputs": [],
   "source": []
  },
  {
   "cell_type": "code",
   "execution_count": null,
   "metadata": {},
   "outputs": [],
   "source": []
  },
  {
   "cell_type": "code",
   "execution_count": null,
   "metadata": {},
   "outputs": [],
   "source": []
  }
 ],
 "metadata": {
  "kernelspec": {
   "display_name": "Python 3",
   "language": "python",
   "name": "python3"
  },
  "language_info": {
   "codemirror_mode": {
    "name": "ipython",
    "version": 3
   },
   "file_extension": ".py",
   "mimetype": "text/x-python",
   "name": "python",
   "nbconvert_exporter": "python",
   "pygments_lexer": "ipython3",
   "version": "3.8.3"
  }
 },
 "nbformat": 4,
 "nbformat_minor": 4
}
