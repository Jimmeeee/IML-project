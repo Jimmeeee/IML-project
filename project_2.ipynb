{
 "cells": [
  {
   "cell_type": "code",
   "execution_count": 1,
   "metadata": {},
   "outputs": [],
   "source": [
    "# imports\n",
    "import pandas as pd\n",
    "import numpy as np\n",
    "import matplotlib.pyplot as plt\n",
    "import seaborn as sns\n",
    "from sklearn.model_selection import train_test_split"
   ]
  },
  {
   "cell_type": "code",
   "execution_count": 2,
   "metadata": {},
   "outputs": [],
   "source": [
    "# read data\n",
    "df = pd.read_csv(\"data/npf_train.csv\")"
   ]
  },
  {
   "cell_type": "code",
   "execution_count": 3,
   "metadata": {},
   "outputs": [
    {
     "data": {
      "text/html": [
       "<div>\n",
       "<style scoped>\n",
       "    .dataframe tbody tr th:only-of-type {\n",
       "        vertical-align: middle;\n",
       "    }\n",
       "\n",
       "    .dataframe tbody tr th {\n",
       "        vertical-align: top;\n",
       "    }\n",
       "\n",
       "    .dataframe thead th {\n",
       "        text-align: right;\n",
       "    }\n",
       "</style>\n",
       "<table border=\"1\" class=\"dataframe\">\n",
       "  <thead>\n",
       "    <tr style=\"text-align: right;\">\n",
       "      <th></th>\n",
       "      <th>id</th>\n",
       "      <th>date</th>\n",
       "      <th>class4</th>\n",
       "      <th>partlybad</th>\n",
       "      <th>CO2168.mean</th>\n",
       "      <th>CO2168.std</th>\n",
       "      <th>CO2336.mean</th>\n",
       "      <th>CO2336.std</th>\n",
       "      <th>CO242.mean</th>\n",
       "      <th>CO242.std</th>\n",
       "      <th>...</th>\n",
       "      <th>T672.mean</th>\n",
       "      <th>T672.std</th>\n",
       "      <th>T84.mean</th>\n",
       "      <th>T84.std</th>\n",
       "      <th>UV_A.mean</th>\n",
       "      <th>UV_A.std</th>\n",
       "      <th>UV_B.mean</th>\n",
       "      <th>UV_B.std</th>\n",
       "      <th>CS.mean</th>\n",
       "      <th>CS.std</th>\n",
       "    </tr>\n",
       "  </thead>\n",
       "  <tbody>\n",
       "    <tr>\n",
       "      <th>0</th>\n",
       "      <td>1</td>\n",
       "      <td>2000-02-23</td>\n",
       "      <td>nonevent</td>\n",
       "      <td>False</td>\n",
       "      <td>380.528120</td>\n",
       "      <td>0.802001</td>\n",
       "      <td>380.371466</td>\n",
       "      <td>0.889550</td>\n",
       "      <td>381.816207</td>\n",
       "      <td>1.292593</td>\n",
       "      <td>...</td>\n",
       "      <td>-10.730843</td>\n",
       "      <td>1.381815</td>\n",
       "      <td>-10.282754</td>\n",
       "      <td>1.870056</td>\n",
       "      <td>8.356761</td>\n",
       "      <td>4.534937</td>\n",
       "      <td>0.178084</td>\n",
       "      <td>0.123402</td>\n",
       "      <td>0.002546</td>\n",
       "      <td>0.000686</td>\n",
       "    </tr>\n",
       "    <tr>\n",
       "      <th>1</th>\n",
       "      <td>2</td>\n",
       "      <td>2000-03-25</td>\n",
       "      <td>Ib</td>\n",
       "      <td>False</td>\n",
       "      <td>373.128684</td>\n",
       "      <td>1.096617</td>\n",
       "      <td>372.980000</td>\n",
       "      <td>1.047750</td>\n",
       "      <td>373.701830</td>\n",
       "      <td>1.259198</td>\n",
       "      <td>...</td>\n",
       "      <td>-2.095641</td>\n",
       "      <td>1.695622</td>\n",
       "      <td>-1.095864</td>\n",
       "      <td>2.090111</td>\n",
       "      <td>12.906779</td>\n",
       "      <td>7.022300</td>\n",
       "      <td>0.333523</td>\n",
       "      <td>0.239981</td>\n",
       "      <td>0.000662</td>\n",
       "      <td>0.000210</td>\n",
       "    </tr>\n",
       "    <tr>\n",
       "      <th>2</th>\n",
       "      <td>3</td>\n",
       "      <td>2000-04-06</td>\n",
       "      <td>Ib</td>\n",
       "      <td>False</td>\n",
       "      <td>372.363293</td>\n",
       "      <td>0.626329</td>\n",
       "      <td>372.245689</td>\n",
       "      <td>0.615803</td>\n",
       "      <td>372.847246</td>\n",
       "      <td>0.647279</td>\n",
       "      <td>...</td>\n",
       "      <td>0.991521</td>\n",
       "      <td>1.914186</td>\n",
       "      <td>1.846503</td>\n",
       "      <td>1.954748</td>\n",
       "      <td>14.286261</td>\n",
       "      <td>9.572444</td>\n",
       "      <td>0.418313</td>\n",
       "      <td>0.344386</td>\n",
       "      <td>0.000541</td>\n",
       "      <td>0.000072</td>\n",
       "    </tr>\n",
       "    <tr>\n",
       "      <th>3</th>\n",
       "      <td>4</td>\n",
       "      <td>2000-04-11</td>\n",
       "      <td>nonevent</td>\n",
       "      <td>False</td>\n",
       "      <td>381.437442</td>\n",
       "      <td>7.281159</td>\n",
       "      <td>381.380405</td>\n",
       "      <td>7.236002</td>\n",
       "      <td>381.926532</td>\n",
       "      <td>7.294374</td>\n",
       "      <td>...</td>\n",
       "      <td>1.753414</td>\n",
       "      <td>0.340565</td>\n",
       "      <td>2.524931</td>\n",
       "      <td>0.414255</td>\n",
       "      <td>4.945162</td>\n",
       "      <td>3.405652</td>\n",
       "      <td>0.224159</td>\n",
       "      <td>0.192014</td>\n",
       "      <td>0.003710</td>\n",
       "      <td>0.001209</td>\n",
       "    </tr>\n",
       "    <tr>\n",
       "      <th>4</th>\n",
       "      <td>5</td>\n",
       "      <td>2000-04-23</td>\n",
       "      <td>II</td>\n",
       "      <td>False</td>\n",
       "      <td>375.426310</td>\n",
       "      <td>3.264246</td>\n",
       "      <td>375.436524</td>\n",
       "      <td>3.110886</td>\n",
       "      <td>375.740215</td>\n",
       "      <td>3.274924</td>\n",
       "      <td>...</td>\n",
       "      <td>10.940107</td>\n",
       "      <td>2.179821</td>\n",
       "      <td>11.441893</td>\n",
       "      <td>3.048699</td>\n",
       "      <td>13.087014</td>\n",
       "      <td>9.771415</td>\n",
       "      <td>0.525591</td>\n",
       "      <td>0.476821</td>\n",
       "      <td>0.003680</td>\n",
       "      <td>0.002160</td>\n",
       "    </tr>\n",
       "  </tbody>\n",
       "</table>\n",
       "<p>5 rows × 104 columns</p>\n",
       "</div>"
      ],
      "text/plain": [
       "   id        date    class4  partlybad  CO2168.mean  CO2168.std  CO2336.mean  \\\n",
       "0   1  2000-02-23  nonevent      False   380.528120    0.802001   380.371466   \n",
       "1   2  2000-03-25        Ib      False   373.128684    1.096617   372.980000   \n",
       "2   3  2000-04-06        Ib      False   372.363293    0.626329   372.245689   \n",
       "3   4  2000-04-11  nonevent      False   381.437442    7.281159   381.380405   \n",
       "4   5  2000-04-23        II      False   375.426310    3.264246   375.436524   \n",
       "\n",
       "   CO2336.std  CO242.mean  CO242.std  ...  T672.mean  T672.std   T84.mean  \\\n",
       "0    0.889550  381.816207   1.292593  ... -10.730843  1.381815 -10.282754   \n",
       "1    1.047750  373.701830   1.259198  ...  -2.095641  1.695622  -1.095864   \n",
       "2    0.615803  372.847246   0.647279  ...   0.991521  1.914186   1.846503   \n",
       "3    7.236002  381.926532   7.294374  ...   1.753414  0.340565   2.524931   \n",
       "4    3.110886  375.740215   3.274924  ...  10.940107  2.179821  11.441893   \n",
       "\n",
       "    T84.std  UV_A.mean  UV_A.std  UV_B.mean  UV_B.std   CS.mean    CS.std  \n",
       "0  1.870056   8.356761  4.534937   0.178084  0.123402  0.002546  0.000686  \n",
       "1  2.090111  12.906779  7.022300   0.333523  0.239981  0.000662  0.000210  \n",
       "2  1.954748  14.286261  9.572444   0.418313  0.344386  0.000541  0.000072  \n",
       "3  0.414255   4.945162  3.405652   0.224159  0.192014  0.003710  0.001209  \n",
       "4  3.048699  13.087014  9.771415   0.525591  0.476821  0.003680  0.002160  \n",
       "\n",
       "[5 rows x 104 columns]"
      ]
     },
     "execution_count": 3,
     "metadata": {},
     "output_type": "execute_result"
    }
   ],
   "source": [
    "df.head()"
   ]
  },
  {
   "cell_type": "code",
   "execution_count": 6,
   "metadata": {},
   "outputs": [
    {
     "data": {
      "text/html": [
       "<div>\n",
       "<style scoped>\n",
       "    .dataframe tbody tr th:only-of-type {\n",
       "        vertical-align: middle;\n",
       "    }\n",
       "\n",
       "    .dataframe tbody tr th {\n",
       "        vertical-align: top;\n",
       "    }\n",
       "\n",
       "    .dataframe thead th {\n",
       "        text-align: right;\n",
       "    }\n",
       "</style>\n",
       "<table border=\"1\" class=\"dataframe\">\n",
       "  <thead>\n",
       "    <tr style=\"text-align: right;\">\n",
       "      <th></th>\n",
       "      <th>class4</th>\n",
       "      <th>CO2168.mean</th>\n",
       "      <th>CO2168.std</th>\n",
       "      <th>CO2336.mean</th>\n",
       "      <th>CO2336.std</th>\n",
       "      <th>CO242.mean</th>\n",
       "      <th>CO242.std</th>\n",
       "      <th>CO2504.mean</th>\n",
       "      <th>CO2504.std</th>\n",
       "      <th>Glob.mean</th>\n",
       "      <th>...</th>\n",
       "      <th>T672.mean</th>\n",
       "      <th>T672.std</th>\n",
       "      <th>T84.mean</th>\n",
       "      <th>T84.std</th>\n",
       "      <th>UV_A.mean</th>\n",
       "      <th>UV_A.std</th>\n",
       "      <th>UV_B.mean</th>\n",
       "      <th>UV_B.std</th>\n",
       "      <th>CS.mean</th>\n",
       "      <th>CS.std</th>\n",
       "    </tr>\n",
       "  </thead>\n",
       "  <tbody>\n",
       "    <tr>\n",
       "      <th>0</th>\n",
       "      <td>nonevent</td>\n",
       "      <td>380.528120</td>\n",
       "      <td>0.802001</td>\n",
       "      <td>380.371466</td>\n",
       "      <td>0.889550</td>\n",
       "      <td>381.816207</td>\n",
       "      <td>1.292593</td>\n",
       "      <td>380.296466</td>\n",
       "      <td>0.968884</td>\n",
       "      <td>236.605353</td>\n",
       "      <td>...</td>\n",
       "      <td>-10.730843</td>\n",
       "      <td>1.381815</td>\n",
       "      <td>-10.282754</td>\n",
       "      <td>1.870056</td>\n",
       "      <td>8.356761</td>\n",
       "      <td>4.534937</td>\n",
       "      <td>0.178084</td>\n",
       "      <td>0.123402</td>\n",
       "      <td>0.002546</td>\n",
       "      <td>0.000686</td>\n",
       "    </tr>\n",
       "    <tr>\n",
       "      <th>1</th>\n",
       "      <td>Ib</td>\n",
       "      <td>373.128684</td>\n",
       "      <td>1.096617</td>\n",
       "      <td>372.980000</td>\n",
       "      <td>1.047750</td>\n",
       "      <td>373.701830</td>\n",
       "      <td>1.259198</td>\n",
       "      <td>372.910000</td>\n",
       "      <td>1.004164</td>\n",
       "      <td>252.480327</td>\n",
       "      <td>...</td>\n",
       "      <td>-2.095641</td>\n",
       "      <td>1.695622</td>\n",
       "      <td>-1.095864</td>\n",
       "      <td>2.090111</td>\n",
       "      <td>12.906779</td>\n",
       "      <td>7.022300</td>\n",
       "      <td>0.333523</td>\n",
       "      <td>0.239981</td>\n",
       "      <td>0.000662</td>\n",
       "      <td>0.000210</td>\n",
       "    </tr>\n",
       "    <tr>\n",
       "      <th>2</th>\n",
       "      <td>Ib</td>\n",
       "      <td>372.363293</td>\n",
       "      <td>0.626329</td>\n",
       "      <td>372.245689</td>\n",
       "      <td>0.615803</td>\n",
       "      <td>372.847246</td>\n",
       "      <td>0.647279</td>\n",
       "      <td>372.193952</td>\n",
       "      <td>0.596289</td>\n",
       "      <td>269.981547</td>\n",
       "      <td>...</td>\n",
       "      <td>0.991521</td>\n",
       "      <td>1.914186</td>\n",
       "      <td>1.846503</td>\n",
       "      <td>1.954748</td>\n",
       "      <td>14.286261</td>\n",
       "      <td>9.572444</td>\n",
       "      <td>0.418313</td>\n",
       "      <td>0.344386</td>\n",
       "      <td>0.000541</td>\n",
       "      <td>0.000072</td>\n",
       "    </tr>\n",
       "    <tr>\n",
       "      <th>3</th>\n",
       "      <td>nonevent</td>\n",
       "      <td>381.437442</td>\n",
       "      <td>7.281159</td>\n",
       "      <td>381.380405</td>\n",
       "      <td>7.236002</td>\n",
       "      <td>381.926532</td>\n",
       "      <td>7.294374</td>\n",
       "      <td>381.381156</td>\n",
       "      <td>7.208287</td>\n",
       "      <td>68.364653</td>\n",
       "      <td>...</td>\n",
       "      <td>1.753414</td>\n",
       "      <td>0.340565</td>\n",
       "      <td>2.524931</td>\n",
       "      <td>0.414255</td>\n",
       "      <td>4.945162</td>\n",
       "      <td>3.405652</td>\n",
       "      <td>0.224159</td>\n",
       "      <td>0.192014</td>\n",
       "      <td>0.003710</td>\n",
       "      <td>0.001209</td>\n",
       "    </tr>\n",
       "    <tr>\n",
       "      <th>4</th>\n",
       "      <td>II</td>\n",
       "      <td>375.426310</td>\n",
       "      <td>3.264246</td>\n",
       "      <td>375.436524</td>\n",
       "      <td>3.110886</td>\n",
       "      <td>375.740215</td>\n",
       "      <td>3.274924</td>\n",
       "      <td>375.337059</td>\n",
       "      <td>2.903780</td>\n",
       "      <td>242.192619</td>\n",
       "      <td>...</td>\n",
       "      <td>10.940107</td>\n",
       "      <td>2.179821</td>\n",
       "      <td>11.441893</td>\n",
       "      <td>3.048699</td>\n",
       "      <td>13.087014</td>\n",
       "      <td>9.771415</td>\n",
       "      <td>0.525591</td>\n",
       "      <td>0.476821</td>\n",
       "      <td>0.003680</td>\n",
       "      <td>0.002160</td>\n",
       "    </tr>\n",
       "  </tbody>\n",
       "</table>\n",
       "<p>5 rows × 101 columns</p>\n",
       "</div>"
      ],
      "text/plain": [
       "     class4  CO2168.mean  CO2168.std  CO2336.mean  CO2336.std  CO242.mean  \\\n",
       "0  nonevent   380.528120    0.802001   380.371466    0.889550  381.816207   \n",
       "1        Ib   373.128684    1.096617   372.980000    1.047750  373.701830   \n",
       "2        Ib   372.363293    0.626329   372.245689    0.615803  372.847246   \n",
       "3  nonevent   381.437442    7.281159   381.380405    7.236002  381.926532   \n",
       "4        II   375.426310    3.264246   375.436524    3.110886  375.740215   \n",
       "\n",
       "   CO242.std  CO2504.mean  CO2504.std   Glob.mean  ...  T672.mean  T672.std  \\\n",
       "0   1.292593   380.296466    0.968884  236.605353  ... -10.730843  1.381815   \n",
       "1   1.259198   372.910000    1.004164  252.480327  ...  -2.095641  1.695622   \n",
       "2   0.647279   372.193952    0.596289  269.981547  ...   0.991521  1.914186   \n",
       "3   7.294374   381.381156    7.208287   68.364653  ...   1.753414  0.340565   \n",
       "4   3.274924   375.337059    2.903780  242.192619  ...  10.940107  2.179821   \n",
       "\n",
       "    T84.mean   T84.std  UV_A.mean  UV_A.std  UV_B.mean  UV_B.std   CS.mean  \\\n",
       "0 -10.282754  1.870056   8.356761  4.534937   0.178084  0.123402  0.002546   \n",
       "1  -1.095864  2.090111  12.906779  7.022300   0.333523  0.239981  0.000662   \n",
       "2   1.846503  1.954748  14.286261  9.572444   0.418313  0.344386  0.000541   \n",
       "3   2.524931  0.414255   4.945162  3.405652   0.224159  0.192014  0.003710   \n",
       "4  11.441893  3.048699  13.087014  9.771415   0.525591  0.476821  0.003680   \n",
       "\n",
       "     CS.std  \n",
       "0  0.000686  \n",
       "1  0.000210  \n",
       "2  0.000072  \n",
       "3  0.001209  \n",
       "4  0.002160  \n",
       "\n",
       "[5 rows x 101 columns]"
      ]
     },
     "execution_count": 6,
     "metadata": {},
     "output_type": "execute_result"
    }
   ],
   "source": [
    "# delete some usuless columns\n",
    "del df[\"date\"]\n",
    "del df[\"id\"]\n",
    "del df[\"partlybad\"]\n",
    "df.head()"
   ]
  },
  {
   "cell_type": "code",
   "execution_count": 4,
   "metadata": {},
   "outputs": [
    {
     "data": {
      "text/plain": [
       "count          430\n",
       "unique           4\n",
       "top       nonevent\n",
       "freq           215\n",
       "Name: class4, dtype: object"
      ]
     },
     "execution_count": 4,
     "metadata": {},
     "output_type": "execute_result"
    }
   ],
   "source": [
    "df['class4'].describe()"
   ]
  },
  {
   "cell_type": "code",
   "execution_count": 5,
   "metadata": {},
   "outputs": [
    {
     "data": {
      "text/plain": [
       "array(['nonevent', 'Ib', 'II', 'Ia'], dtype=object)"
      ]
     },
     "execution_count": 5,
     "metadata": {},
     "output_type": "execute_result"
    }
   ],
   "source": [
    "df.class4.unique()"
   ]
  },
  {
   "cell_type": "code",
   "execution_count": 13,
   "metadata": {},
   "outputs": [
    {
     "data": {
      "text/plain": [
       "0    0\n",
       "1    2\n",
       "2    2\n",
       "3    0\n",
       "4    3\n",
       "Name: class4, dtype: int64"
      ]
     },
     "execution_count": 13,
     "metadata": {},
     "output_type": "execute_result"
    }
   ],
   "source": [
    "# select X and y variables\n",
    "\n",
    "X = df.loc[:, df.columns != 'class4']\n",
    "y = df['class4']\n",
    "y = y.replace(['nonevent', 'Ia', 'Ib', 'II'],[0, 1, 2, 3])\n",
    "y.head()"
   ]
  },
  {
   "cell_type": "code",
   "execution_count": 58,
   "metadata": {},
   "outputs": [],
   "source": [
    "# Split to training and test set\n",
    "\n",
    "X_train, X_test, y_train, y_test = train_test_split(X, y, test_size=0.5, random_state=0)"
   ]
  },
  {
   "cell_type": "code",
   "execution_count": 59,
   "metadata": {},
   "outputs": [],
   "source": [
    "# Normalize the feature set with standard scalar normalization - PCA is affected by scale\n",
    "\n",
    "from sklearn.preprocessing import StandardScaler\n",
    "\n",
    "sc = StandardScaler()\n",
    "X_train = sc.fit_transform(X_train)\n",
    "X_test = sc.transform(X_test)"
   ]
  },
  {
   "cell_type": "code",
   "execution_count": 16,
   "metadata": {},
   "outputs": [
    {
     "data": {
      "text/plain": [
       "100"
      ]
     },
     "execution_count": 16,
     "metadata": {},
     "output_type": "execute_result"
    }
   ],
   "source": [
    "# apply PCA\n",
    "\n",
    "from sklearn.decomposition import PCA\n",
    "\n",
    "pca = PCA(random_state=None) # with number of components not specified, all features are returned\n",
    "X_train = pca.fit_transform(X_train)\n",
    "X_test = pca.transform(X_test)\n",
    "\n",
    "# number of components\n",
    "pca.n_components_"
   ]
  },
  {
   "cell_type": "code",
   "execution_count": 18,
   "metadata": {},
   "outputs": [
    {
     "data": {
      "text/plain": [
       "array([4.17961338e-01, 1.51169485e-01, 1.25822445e-01, 3.72130396e-02,\n",
       "       3.22738816e-02, 2.62750379e-02, 2.51700328e-02, 2.18378722e-02,\n",
       "       1.71222212e-02, 1.63132139e-02, 1.46531855e-02, 1.29622440e-02,\n",
       "       1.23894777e-02, 1.06033160e-02, 9.13147867e-03, 8.27570967e-03,\n",
       "       7.41455897e-03, 6.34612427e-03, 5.77803793e-03, 5.34477101e-03,\n",
       "       5.09482021e-03, 4.24034155e-03, 3.61110627e-03, 3.19112761e-03,\n",
       "       2.90917752e-03, 2.41078538e-03, 2.02238013e-03, 1.53586073e-03,\n",
       "       1.45487617e-03, 1.34008403e-03, 1.25421861e-03, 1.05914705e-03,\n",
       "       1.02496892e-03, 6.84969547e-04, 6.43907395e-04, 4.89038814e-04,\n",
       "       4.38409833e-04, 3.86048160e-04, 2.91104575e-04, 2.34788507e-04,\n",
       "       2.24292915e-04, 1.82089649e-04, 1.40694360e-04, 1.30544797e-04,\n",
       "       1.12468042e-04, 9.53117385e-05, 8.91595792e-05, 8.45906752e-05,\n",
       "       6.88045401e-05, 5.65891049e-05, 5.38991934e-05, 5.00808873e-05,\n",
       "       4.12272037e-05, 3.58382258e-05, 3.12644534e-05, 2.53554625e-05,\n",
       "       2.35913837e-05, 2.14668515e-05, 1.90010368e-05, 1.56244581e-05,\n",
       "       1.39957303e-05, 1.31051788e-05, 1.25422668e-05, 1.01234722e-05,\n",
       "       9.36836436e-06, 8.20693891e-06, 6.73758566e-06, 5.93793079e-06,\n",
       "       5.53413496e-06, 4.86875219e-06, 4.61156292e-06, 4.52237996e-06,\n",
       "       3.11132509e-06, 2.76067171e-06, 2.53927322e-06, 2.23840711e-06,\n",
       "       1.98394411e-06, 1.73748909e-06, 1.37865343e-06, 1.17354069e-06,\n",
       "       1.03423087e-06, 9.55134167e-07, 8.54347602e-07, 7.85692367e-07,\n",
       "       6.80353492e-07, 5.92543289e-07, 3.96968980e-07, 3.52605873e-07,\n",
       "       3.24983910e-07, 2.37122037e-07, 2.03710899e-07, 1.61981553e-07,\n",
       "       1.33349127e-07, 9.29541979e-08, 8.06812512e-08, 4.05748297e-08,\n",
       "       2.44543949e-08, 2.08517393e-08, 1.41403225e-08, 8.90098125e-09])"
      ]
     },
     "execution_count": 18,
     "metadata": {},
     "output_type": "execute_result"
    }
   ],
   "source": [
    "# variance caused by each of the principal components\n",
    "pca.explained_variance_ratio_\n",
    "# the three first ones seem to play the biggest role here"
   ]
  },
  {
   "cell_type": "code",
   "execution_count": 60,
   "metadata": {},
   "outputs": [],
   "source": [
    "from sklearn.decomposition import PCA\n",
    "\n",
    "pca = PCA(n_components=14, svd_solver='auto', random_state=None) # with number of components not specified, all features are returned\n",
    "X_train = pca.fit_transform(X_train)\n",
    "X_test = pca.transform(X_test)"
   ]
  },
  {
   "cell_type": "code",
   "execution_count": 61,
   "metadata": {},
   "outputs": [
    {
     "data": {
      "text/plain": [
       "0.6651162790697674"
      ]
     },
     "execution_count": 61,
     "metadata": {},
     "output_type": "execute_result"
    }
   ],
   "source": [
    "# SVC classification\n",
    "\n",
    "from sklearn.svm import SVC\n",
    "from sklearn import metrics \n",
    "\n",
    "clf_svc = SVC(kernel = 'rbf', probability = True, random_state=0)\n",
    "clf_svc.fit(X_train, y_train)\n",
    "y_pred_svc = clf_svc.predict(X_test)\n",
    "ac = metrics.accuracy_score(y_test, y_pred_svc)\n",
    "ac\n",
    "\n",
    "# number of components chosen for pca does effect accuracy a little, for example:\n",
    "# ac = 0.6651162790697674 for n_components = 3\n",
    "# ac = 0.6604651162790698 for n_components = 50"
   ]
  },
  {
   "cell_type": "code",
   "execution_count": 76,
   "metadata": {},
   "outputs": [
    {
     "data": {
      "text/plain": [
       "0.6232558139534884"
      ]
     },
     "execution_count": 76,
     "metadata": {},
     "output_type": "execute_result"
    }
   ],
   "source": [
    "# Random forest classifier\n",
    "\n",
    "from sklearn.ensemble import RandomForestClassifier\n",
    "\n",
    "clf_rfc = RandomForestClassifier(max_depth=8, random_state=0)\n",
    "clf_rfc.fit(X_train, y_train)\n",
    "y_pred_rfc = clf_rfc.predict(X_test)\n",
    "ac = metrics.accuracy_score(y_test, y_pred_rfc)\n",
    "ac"
   ]
  },
  {
   "cell_type": "code",
   "execution_count": 77,
   "metadata": {},
   "outputs": [
    {
     "data": {
      "text/plain": [
       "0.6325581395348837"
      ]
     },
     "execution_count": 77,
     "metadata": {},
     "output_type": "execute_result"
    }
   ],
   "source": [
    "# Logistic regression\n",
    "\n",
    "from sklearn.linear_model import LogisticRegression\n",
    "\n",
    "clf_lr = LogisticRegression(random_state=0)\n",
    "clf_lr.fit(X_train, y_train)\n",
    "y_pred_lr = clf_lr.predict(X_test)\n",
    "ac = metrics.accuracy_score(y_test, y_pred_lr)\n",
    "ac"
   ]
  },
  {
   "cell_type": "code",
   "execution_count": null,
   "metadata": {},
   "outputs": [],
   "source": []
  }
 ],
 "metadata": {
  "kernelspec": {
   "display_name": "Python 3",
   "language": "python",
   "name": "python3"
  },
  "language_info": {
   "codemirror_mode": {
    "name": "ipython",
    "version": 3
   },
   "file_extension": ".py",
   "mimetype": "text/x-python",
   "name": "python",
   "nbconvert_exporter": "python",
   "pygments_lexer": "ipython3",
   "version": "3.8.3"
  }
 },
 "nbformat": 4,
 "nbformat_minor": 4
}
